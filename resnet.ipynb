{
 "cells": [
  {
   "attachments": {},
   "cell_type": "markdown",
   "metadata": {},
   "source": [
    "## Mask Detection with ResNet"
   ]
  },
  {
   "cell_type": "code",
   "execution_count": 1,
   "metadata": {},
   "outputs": [],
   "source": [
    "# Import libraries:\n",
    "\n",
    "import shutil\n",
    "import os\n",
    "import numpy as np\n",
    "import cv2\n",
    "from keras.applications.resnet import ResNet50, preprocess_input\n",
    "from keras.models import Model\n",
    "from keras.layers import Dense,Dropout,AveragePooling2D,Flatten\n",
    "from keras.optimizers import Adam\n",
    "from tqdm.notebook import tqdm_notebook\n",
    "import datetime\n",
    "import tensorflow as tf\n",
    "from focal_loss import BinaryFocalLoss\n",
    "from tqdm import tqdm_notebook as tqdm\n",
    "from PIL import Image\n",
    "from sklearn.utils import shuffle"
   ]
  },
  {
   "cell_type": "code",
   "execution_count": 2,
   "metadata": {},
   "outputs": [],
   "source": [
    "# Load the TensorBoard notebook extension:\n",
    "%load_ext tensorboard"
   ]
  },
  {
   "cell_type": "code",
   "execution_count": 3,
   "metadata": {},
   "outputs": [],
   "source": [
    "# Make use of TensorBoard:\n",
    "\n",
    "try:\n",
    "    shutil.rmtree('logs')\n",
    "except:\n",
    "    pass\n",
    "try:\n",
    "    shutil.rmtree('logsx')\n",
    "except:\n",
    "    pass\n",
    "\n",
    "# Try with TB:\n",
    "log_dir = \"logs/fit/\" + datetime.datetime.now().strftime(\"%Y%m%d-%H%M%S\")\n",
    "tensorboard_callback = tf.keras.callbacks.TensorBoard(log_dir=log_dir, histogram_freq=1)\n"
   ]
  },
  {
   "cell_type": "code",
   "execution_count": 5,
   "metadata": {},
   "outputs": [
    {
     "name": "stderr",
     "output_type": "stream",
     "text": [
      "C:\\Users\\Slavka\\AppData\\Local\\Temp\\ipykernel_22192\\3113043258.py:8: TqdmDeprecationWarning: This function will be removed in tqdm==5.0.0\n",
      "Please use `tqdm.notebook.tqdm` instead of `tqdm.tqdm_notebook`\n",
      "  for file in tqdm(files):\n"
     ]
    },
    {
     "data": {
      "application/vnd.jupyter.widget-view+json": {
       "model_id": "6d4ddfa93b684b87a0776daf045cf339",
       "version_major": 2,
       "version_minor": 0
      },
      "text/plain": [
       "  0%|          | 0/2332 [00:00<?, ?it/s]"
      ]
     },
     "metadata": {},
     "output_type": "display_data"
    },
    {
     "name": "stderr",
     "output_type": "stream",
     "text": [
      "C:\\Users\\Slavka\\AppData\\Local\\Temp\\ipykernel_22192\\3113043258.py:13: DeprecationWarning: LANCZOS is deprecated and will be removed in Pillow 10 (2023-07-01). Use Resampling.LANCZOS instead.\n",
      "  image = image.resize((224, 224), Image.LANCZOS)\n"
     ]
    },
    {
     "data": {
      "application/vnd.jupyter.widget-view+json": {
       "model_id": "46729a00e29e421f9def72c0328b2719",
       "version_major": 2,
       "version_minor": 0
      },
      "text/plain": [
       "  0%|          | 0/1330 [00:00<?, ?it/s]"
      ]
     },
     "metadata": {},
     "output_type": "display_data"
    }
   ],
   "source": [
    "# Import Image Dataset from local:\n",
    "\n",
    "def read_images(path):\n",
    "    files = os.listdir(path)\n",
    "    files = [file for file in files if file[-4:] == \".jpg\"]\n",
    "        \n",
    "    images = []\n",
    "    for file in tqdm(files):\n",
    "        try:\n",
    "            image = Image.open(os.path.join(path, file))\n",
    "\n",
    "            # https://pillow.readthedocs.io/en/3.1.x/reference/Image.html#PIL.Image.Image.resize\n",
    "            image = image.resize((224, 224), Image.LANCZOS)\n",
    "\n",
    "            # https://pillow.readthedocs.io/en/3.1.x/reference/Image.html#PIL.Image.Image.convert\n",
    "            image = image.convert(\"RGB\")\n",
    "\n",
    "            image = np.asarray(image)\n",
    "\n",
    "            images.append(image)\n",
    "        except OSError:\n",
    "            pass\n",
    "    \n",
    "    return images\n",
    "    \n",
    "with_mask = read_images(os.path.join(\"./dataset/cropped/\", \"with\"))\n",
    "without_mask = read_images(os.path.join(\"./dataset/cropped/\", \"without\"))"
   ]
  },
  {
   "cell_type": "code",
   "execution_count": 6,
   "metadata": {},
   "outputs": [],
   "source": [
    "# Prepare Image Data in Data X and Target Values y:\n",
    "\n",
    "with_mask = np.asarray(with_mask)\n",
    "without_mask = np.asarray(without_mask)\n",
    "\n",
    "X = np.concatenate([with_mask, without_mask])\n",
    "\n",
    "y_with_mask = np.zeros(len(with_mask))\n",
    "y_without_mask = np.ones(len(without_mask))\n",
    "\n",
    "y = np.concatenate([y_with_mask, y_without_mask])\n",
    "\n",
    "del with_mask, without_mask, y_with_mask, y_without_mask"
   ]
  },
  {
   "attachments": {},
   "cell_type": "markdown",
   "metadata": {},
   "source": [
    "## Transfer Learning with ResNet"
   ]
  },
  {
   "cell_type": "code",
   "execution_count": 7,
   "metadata": {},
   "outputs": [],
   "source": [
    "# Use ResNet Model for Transfer-Learning with non-trainable layers for faster processing:\n",
    "\n",
    "resnet_model  = ResNet50(input_shape = (224,224,3), weights='imagenet', include_top=False)\n",
    "for layer in resnet_model.layers:\n",
    "  layer.trainaibale = False        \n",
    "\n",
    "classifier_network = resnet_model.output\n",
    "classifier_network = AveragePooling2D(pool_size=(7, 7),name = \"Average_Pool_Final\")(classifier_network)\n",
    "classifier_network = Flatten(name = \"Flatten_Final\")(classifier_network)\n",
    "classifier_network = Dense(128, activation=\"relu\",name = \"Dense_Final\")(classifier_network)\n",
    "classifier_network = Dropout(0.5,name = \"Dropout_Final\")(classifier_network)\n",
    "classifier_network = Dense(1, activation=\"sigmoid\", name = \"Sigmoid_Classifier\" )(classifier_network)\n",
    "\n",
    "mask_classifier = Model(inputs=resnet_model.input, outputs=classifier_network)"
   ]
  },
  {
   "cell_type": "code",
   "execution_count": 8,
   "metadata": {},
   "outputs": [],
   "source": [
    "# Set the Hyper-Parameters\n",
    "\n",
    "alpha = 0.00001\n",
    "n_epochs = 25\n",
    "mini_batch_size = 32\n",
    "     "
   ]
  },
  {
   "cell_type": "code",
   "execution_count": 9,
   "metadata": {},
   "outputs": [],
   "source": [
    "# Compile the Model\n",
    "\n",
    "opt = Adam(learning_rate=alpha,decay = alpha/n_epochs)\n",
    "\n",
    "#mask_classifier.compile(optimizer=Adam(learning_rate=0.0001), loss=\"binary_crossentropy\", metrics=[\"acc\"])\n",
    "mask_classifier.compile(optimizer=opt,loss=BinaryFocalLoss(gamma=2),metrics = ['accuracy'])\n",
    "\n",
    "#mask_classifier.summary() "
   ]
  },
  {
   "cell_type": "code",
   "execution_count": 10,
   "metadata": {},
   "outputs": [],
   "source": [
    "# Use Preprocessing of keras ResNet Library and shuffle Dataset afterwards for better Predictions:\n",
    "\n",
    "X = preprocess_input(X)\n",
    "X, y = shuffle(X, y)"
   ]
  },
  {
   "cell_type": "code",
   "execution_count": 11,
   "metadata": {},
   "outputs": [
    {
     "name": "stdout",
     "output_type": "stream",
     "text": [
      "Epoch 1/25\n",
      "92/92 [==============================] - 24s 171ms/step - loss: 0.1976 - accuracy: 0.7316 - val_loss: 0.0463 - val_accuracy: 0.9222\n",
      "Epoch 2/25\n",
      "92/92 [==============================] - 15s 157ms/step - loss: 0.0707 - accuracy: 0.8867 - val_loss: 0.0265 - val_accuracy: 0.9604\n",
      "Epoch 3/25\n",
      "92/92 [==============================] - 15s 156ms/step - loss: 0.0439 - accuracy: 0.9324 - val_loss: 0.0206 - val_accuracy: 0.9714\n",
      "Epoch 4/25\n",
      "92/92 [==============================] - 15s 158ms/step - loss: 0.0276 - accuracy: 0.9597 - val_loss: 0.0178 - val_accuracy: 0.9741\n",
      "Epoch 5/25\n",
      "92/92 [==============================] - 15s 157ms/step - loss: 0.0191 - accuracy: 0.9730 - val_loss: 0.0164 - val_accuracy: 0.9795\n",
      "Epoch 6/25\n",
      "92/92 [==============================] - 15s 157ms/step - loss: 0.0142 - accuracy: 0.9819 - val_loss: 0.0151 - val_accuracy: 0.9823\n",
      "Epoch 7/25\n",
      "92/92 [==============================] - 15s 157ms/step - loss: 0.0137 - accuracy: 0.9822 - val_loss: 0.0140 - val_accuracy: 0.9864\n",
      "Epoch 8/25\n",
      "92/92 [==============================] - 15s 158ms/step - loss: 0.0106 - accuracy: 0.9887 - val_loss: 0.0141 - val_accuracy: 0.9850\n",
      "Epoch 9/25\n",
      "92/92 [==============================] - 15s 158ms/step - loss: 0.0073 - accuracy: 0.9908 - val_loss: 0.0135 - val_accuracy: 0.9864\n",
      "Epoch 10/25\n",
      "92/92 [==============================] - 15s 157ms/step - loss: 0.0067 - accuracy: 0.9935 - val_loss: 0.0125 - val_accuracy: 0.9877\n",
      "Epoch 11/25\n",
      "92/92 [==============================] - 15s 158ms/step - loss: 0.0038 - accuracy: 0.9962 - val_loss: 0.0141 - val_accuracy: 0.9864\n",
      "Epoch 12/25\n",
      "92/92 [==============================] - 15s 157ms/step - loss: 0.0031 - accuracy: 0.9976 - val_loss: 0.0142 - val_accuracy: 0.9877\n",
      "Epoch 13/25\n",
      "92/92 [==============================] - 15s 158ms/step - loss: 0.0028 - accuracy: 0.9990 - val_loss: 0.0131 - val_accuracy: 0.9891\n",
      "Epoch 14/25\n",
      "92/92 [==============================] - 15s 158ms/step - loss: 0.0022 - accuracy: 0.9990 - val_loss: 0.0143 - val_accuracy: 0.9877\n",
      "Epoch 15/25\n",
      "92/92 [==============================] - 15s 157ms/step - loss: 0.0023 - accuracy: 0.9980 - val_loss: 0.0144 - val_accuracy: 0.9891\n",
      "Epoch 16/25\n",
      "92/92 [==============================] - 15s 157ms/step - loss: 0.0022 - accuracy: 0.9973 - val_loss: 0.0133 - val_accuracy: 0.9877\n",
      "Epoch 17/25\n",
      "92/92 [==============================] - 15s 158ms/step - loss: 0.0023 - accuracy: 0.9980 - val_loss: 0.0149 - val_accuracy: 0.9877\n",
      "Epoch 18/25\n",
      "92/92 [==============================] - 15s 157ms/step - loss: 0.0024 - accuracy: 0.9976 - val_loss: 0.0174 - val_accuracy: 0.9864\n",
      "Epoch 19/25\n",
      "92/92 [==============================] - 15s 157ms/step - loss: 0.0011 - accuracy: 0.9993 - val_loss: 0.0153 - val_accuracy: 0.9850\n",
      "Epoch 20/25\n",
      "92/92 [==============================] - 15s 157ms/step - loss: 0.0014 - accuracy: 0.9990 - val_loss: 0.0155 - val_accuracy: 0.9864\n",
      "Epoch 21/25\n",
      "92/92 [==============================] - 15s 158ms/step - loss: 8.4965e-04 - accuracy: 1.0000 - val_loss: 0.0132 - val_accuracy: 0.9877\n",
      "Epoch 22/25\n",
      "92/92 [==============================] - 15s 157ms/step - loss: 0.0011 - accuracy: 0.9993 - val_loss: 0.0148 - val_accuracy: 0.9891\n",
      "Epoch 23/25\n",
      "92/92 [==============================] - 15s 158ms/step - loss: 8.1176e-04 - accuracy: 0.9993 - val_loss: 0.0158 - val_accuracy: 0.9891\n",
      "Epoch 24/25\n",
      "92/92 [==============================] - 15s 158ms/step - loss: 9.3499e-04 - accuracy: 0.9990 - val_loss: 0.0153 - val_accuracy: 0.9864\n",
      "Epoch 25/25\n",
      "92/92 [==============================] - 15s 157ms/step - loss: 5.6763e-04 - accuracy: 0.9997 - val_loss: 0.0165 - val_accuracy: 0.9864\n"
     ]
    },
    {
     "data": {
      "text/plain": [
       "<keras.callbacks.History at 0x2594b972ec0>"
      ]
     },
     "execution_count": 11,
     "metadata": {},
     "output_type": "execute_result"
    }
   ],
   "source": [
    "# Train the Model\n",
    "\n",
    "mask_classifier.fit(X, y, epochs=n_epochs, batch_size=mini_batch_size, validation_split=0.2, shuffle=True, callbacks=[tensorboard_callback])"
   ]
  },
  {
   "cell_type": "code",
   "execution_count": 12,
   "metadata": {},
   "outputs": [],
   "source": [
    "# And finally save the Model:\n",
    "\n",
    "mask_classifier.save(\"./model/resnet.h5\")"
   ]
  }
 ],
 "metadata": {
  "kernelspec": {
   "display_name": "usl",
   "language": "python",
   "name": "python3"
  },
  "language_info": {
   "codemirror_mode": {
    "name": "ipython",
    "version": 3
   },
   "file_extension": ".py",
   "mimetype": "text/x-python",
   "name": "python",
   "nbconvert_exporter": "python",
   "pygments_lexer": "ipython3",
   "version": "3.10.8"
  },
  "orig_nbformat": 4
 },
 "nbformat": 4,
 "nbformat_minor": 2
}
