{
 "cells": [
  {
   "attachments": {},
   "cell_type": "markdown",
   "metadata": {},
   "source": [
    "## Mask Detection with MobileNet"
   ]
  },
  {
   "cell_type": "code",
   "execution_count": 1,
   "metadata": {},
   "outputs": [],
   "source": [
    "# Load the TensorBoard notebook extension:\n",
    "%load_ext tensorboard"
   ]
  },
  {
   "cell_type": "code",
   "execution_count": 2,
   "metadata": {},
   "outputs": [],
   "source": [
    "# Import libraries:\n",
    "\n",
    "import shutil\n",
    "import datetime\n",
    "import tensorflow as tf\n",
    "import cv2 \n",
    "import os\n",
    "import numpy as np\n",
    "from keras.models import Model\n",
    "from tqdm import tqdm_notebook as tqdm\n",
    "from PIL import Image\n",
    "from keras.applications.mobilenet import MobileNet, preprocess_input\n",
    "from keras.layers import Dense, Flatten, Dropout\n",
    "from keras.optimizers import Adam, SGD\n",
    "from focal_loss import BinaryFocalLoss\n",
    "from sklearn.utils import shuffle"
   ]
  },
  {
   "cell_type": "code",
   "execution_count": 3,
   "metadata": {},
   "outputs": [],
   "source": [
    "# Make use of TensorBoard:\n",
    "\n",
    "try:\n",
    "    shutil.rmtree('logs')\n",
    "except:\n",
    "    pass\n",
    "try:\n",
    "    shutil.rmtree('logsx')\n",
    "except:\n",
    "    pass\n",
    "\n",
    "# Try with TB:\n",
    "log_dir = \"logs/fit/\" + datetime.datetime.now().strftime(\"%Y%m%d-%H%M%S\")\n",
    "tensorboard_callback = tf.keras.callbacks.TensorBoard(log_dir=log_dir, histogram_freq=1)\n"
   ]
  },
  {
   "cell_type": "code",
   "execution_count": 4,
   "metadata": {},
   "outputs": [
    {
     "name": "stderr",
     "output_type": "stream",
     "text": [
      "C:\\Users\\Slavka\\AppData\\Local\\Temp\\ipykernel_22980\\2666920087.py:8: TqdmDeprecationWarning: This function will be removed in tqdm==5.0.0\n",
      "Please use `tqdm.notebook.tqdm` instead of `tqdm.tqdm_notebook`\n",
      "  for file in tqdm(files):\n"
     ]
    },
    {
     "data": {
      "application/vnd.jupyter.widget-view+json": {
       "model_id": "a303b4fcd1d24985ae2f0b46e68d6461",
       "version_major": 2,
       "version_minor": 0
      },
      "text/plain": [
       "  0%|          | 0/2332 [00:00<?, ?it/s]"
      ]
     },
     "metadata": {},
     "output_type": "display_data"
    },
    {
     "name": "stderr",
     "output_type": "stream",
     "text": [
      "C:\\Users\\Slavka\\AppData\\Local\\Temp\\ipykernel_22980\\2666920087.py:13: DeprecationWarning: LANCZOS is deprecated and will be removed in Pillow 10 (2023-07-01). Use Resampling.LANCZOS instead.\n",
      "  image = image.resize((224, 224), Image.LANCZOS)\n"
     ]
    },
    {
     "data": {
      "application/vnd.jupyter.widget-view+json": {
       "model_id": "7d23514ad81746ca85a9d37b565f1d99",
       "version_major": 2,
       "version_minor": 0
      },
      "text/plain": [
       "  0%|          | 0/1330 [00:00<?, ?it/s]"
      ]
     },
     "metadata": {},
     "output_type": "display_data"
    }
   ],
   "source": [
    "# Import Image Dataset from local:\n",
    "\n",
    "def read_images(path):\n",
    "    files = os.listdir(path)\n",
    "    files = [file for file in files if file[-4:] == \".jpg\"]\n",
    "        \n",
    "    images = []\n",
    "    for file in tqdm(files):\n",
    "        try:\n",
    "            image = Image.open(os.path.join(path, file))\n",
    "\n",
    "            # https://pillow.readthedocs.io/en/3.1.x/reference/Image.html#PIL.Image.Image.resize\n",
    "            image = image.resize((224, 224), Image.LANCZOS)\n",
    "\n",
    "            # https://pillow.readthedocs.io/en/3.1.x/reference/Image.html#PIL.Image.Image.convert\n",
    "            image = image.convert(\"RGB\")\n",
    "\n",
    "            image = np.asarray(image)\n",
    "\n",
    "            images.append(image)\n",
    "        except OSError:\n",
    "            pass\n",
    "    \n",
    "    return images\n",
    "    \n",
    "with_mask = read_images(os.path.join(\"./dataset/cropped/\", \"with\"))\n",
    "without_mask = read_images(os.path.join(\"./dataset/cropped/\", \"without\"))"
   ]
  },
  {
   "cell_type": "code",
   "execution_count": 5,
   "metadata": {},
   "outputs": [],
   "source": [
    "# Prepare Image Data in Data X and Target Values y:\n",
    "\n",
    "with_mask = np.asarray(with_mask)\n",
    "without_mask = np.asarray(without_mask)\n",
    "\n",
    "X = np.concatenate([with_mask, without_mask])\n",
    "\n",
    "y_with_mask = np.zeros(len(with_mask))\n",
    "y_without_mask = np.ones(len(without_mask))\n",
    "\n",
    "y = np.concatenate([y_with_mask, y_without_mask])\n",
    "\n",
    "# Delete to free RAM:\n",
    "del with_mask, without_mask, y_with_mask, y_without_mask"
   ]
  },
  {
   "attachments": {},
   "cell_type": "markdown",
   "metadata": {},
   "source": [
    "## Transfer Learning with MobileNet"
   ]
  },
  {
   "cell_type": "code",
   "execution_count": 6,
   "metadata": {},
   "outputs": [],
   "source": [
    "# Use MobileNet Model for Transfer-Learning with non-trainable layers for faster processing:\n",
    "\n",
    "mobilenet_model = MobileNet(include_top=False, input_shape=(224, 224, 3))\n",
    "for layer in mobilenet_model.layers:\n",
    "    layer.trainable = False\n",
    "\n",
    "classifier_network = mobilenet_model.output\n",
    "classifier_network = Flatten(name = \"Flatten_Final\")(classifier_network)\n",
    "classifier_network = Dense(128, activation=\"relu\",name = \"Dense_Final\")(classifier_network)\n",
    "classifier_network = Dropout(0.5,name = \"Dropout_Final\")(classifier_network)\n",
    "classifier_network = Dense(1, activation=\"sigmoid\", name = \"Sigmoid_Classifier\" )(classifier_network)\n",
    "mask_classifier = Model(inputs=mobilenet_model.input, outputs = classifier_network)\n"
   ]
  },
  {
   "cell_type": "code",
   "execution_count": 7,
   "metadata": {},
   "outputs": [],
   "source": [
    "# Set the Hyper-Parameters\n",
    "\n",
    "alpha = 0.00001\n",
    "n_epochs = 10\n",
    "mini_batch_size = 32\n",
    "     "
   ]
  },
  {
   "cell_type": "code",
   "execution_count": 8,
   "metadata": {},
   "outputs": [],
   "source": [
    "# Compile the Model\n",
    "\n",
    "opt = Adam(learning_rate=alpha, decay = alpha/n_epochs)\n",
    "mask_classifier.compile(optimizer=opt,loss=BinaryFocalLoss(gamma=2),metrics = ['accuracy'])\n",
    "#mask_classifier.summary() "
   ]
  },
  {
   "cell_type": "code",
   "execution_count": 9,
   "metadata": {},
   "outputs": [],
   "source": [
    "# Use Preprocessing of keras MobileNet Library and shuffle Dataset afterwards for better Predictions:\n",
    "\n",
    "X = preprocess_input(X)\n",
    "X, y = shuffle(X, y)"
   ]
  },
  {
   "cell_type": "code",
   "execution_count": 10,
   "metadata": {},
   "outputs": [
    {
     "name": "stdout",
     "output_type": "stream",
     "text": [
      "Epoch 1/25\n",
      "92/92 [==============================] - 7s 37ms/step - loss: 0.2512 - accuracy: 0.8156 - val_loss: 0.0572 - val_accuracy: 0.9400\n",
      "Epoch 2/25\n",
      "92/92 [==============================] - 3s 32ms/step - loss: 0.0581 - accuracy: 0.9344 - val_loss: 0.0447 - val_accuracy: 0.9509\n",
      "Epoch 3/25\n",
      "92/92 [==============================] - 3s 31ms/step - loss: 0.0367 - accuracy: 0.9512 - val_loss: 0.0356 - val_accuracy: 0.9577\n",
      "Epoch 4/25\n",
      "92/92 [==============================] - 3s 32ms/step - loss: 0.0229 - accuracy: 0.9665 - val_loss: 0.0312 - val_accuracy: 0.9604\n",
      "Epoch 5/25\n",
      "92/92 [==============================] - 3s 31ms/step - loss: 0.0155 - accuracy: 0.9758 - val_loss: 0.0291 - val_accuracy: 0.9659\n",
      "Epoch 6/25\n",
      "92/92 [==============================] - 3s 31ms/step - loss: 0.0120 - accuracy: 0.9833 - val_loss: 0.0313 - val_accuracy: 0.9659\n",
      "Epoch 7/25\n",
      "92/92 [==============================] - 3s 31ms/step - loss: 0.0102 - accuracy: 0.9860 - val_loss: 0.0298 - val_accuracy: 0.9714\n",
      "Epoch 8/25\n",
      "92/92 [==============================] - 3s 31ms/step - loss: 0.0067 - accuracy: 0.9921 - val_loss: 0.0320 - val_accuracy: 0.9686\n",
      "Epoch 9/25\n",
      "92/92 [==============================] - 3s 32ms/step - loss: 0.0058 - accuracy: 0.9925 - val_loss: 0.0322 - val_accuracy: 0.9686\n",
      "Epoch 10/25\n",
      "92/92 [==============================] - 3s 31ms/step - loss: 0.0040 - accuracy: 0.9956 - val_loss: 0.0316 - val_accuracy: 0.9686\n",
      "Epoch 11/25\n",
      "92/92 [==============================] - 3s 31ms/step - loss: 0.0047 - accuracy: 0.9925 - val_loss: 0.0323 - val_accuracy: 0.9673\n",
      "Epoch 12/25\n",
      "92/92 [==============================] - 3s 31ms/step - loss: 0.0029 - accuracy: 0.9962 - val_loss: 0.0314 - val_accuracy: 0.9686\n",
      "Epoch 13/25\n",
      "92/92 [==============================] - 3s 32ms/step - loss: 0.0035 - accuracy: 0.9966 - val_loss: 0.0324 - val_accuracy: 0.9686\n",
      "Epoch 14/25\n",
      "92/92 [==============================] - 3s 31ms/step - loss: 0.0036 - accuracy: 0.9962 - val_loss: 0.0329 - val_accuracy: 0.9686\n",
      "Epoch 15/25\n",
      "92/92 [==============================] - 3s 31ms/step - loss: 0.0032 - accuracy: 0.9962 - val_loss: 0.0312 - val_accuracy: 0.9700\n",
      "Epoch 16/25\n",
      "92/92 [==============================] - 3s 31ms/step - loss: 0.0021 - accuracy: 0.9983 - val_loss: 0.0321 - val_accuracy: 0.9714\n",
      "Epoch 17/25\n",
      "92/92 [==============================] - 3s 32ms/step - loss: 0.0017 - accuracy: 0.9990 - val_loss: 0.0330 - val_accuracy: 0.9727\n",
      "Epoch 18/25\n",
      "92/92 [==============================] - 3s 31ms/step - loss: 0.0018 - accuracy: 0.9983 - val_loss: 0.0343 - val_accuracy: 0.9741\n",
      "Epoch 19/25\n",
      "92/92 [==============================] - 3s 31ms/step - loss: 0.0010 - accuracy: 0.9993 - val_loss: 0.0342 - val_accuracy: 0.9714\n",
      "Epoch 20/25\n",
      "92/92 [==============================] - 3s 31ms/step - loss: 0.0013 - accuracy: 0.9993 - val_loss: 0.0342 - val_accuracy: 0.9727\n",
      "Epoch 21/25\n",
      "92/92 [==============================] - 3s 32ms/step - loss: 0.0013 - accuracy: 0.9983 - val_loss: 0.0335 - val_accuracy: 0.9727\n",
      "Epoch 22/25\n",
      "92/92 [==============================] - 3s 31ms/step - loss: 8.1775e-04 - accuracy: 0.9997 - val_loss: 0.0347 - val_accuracy: 0.9727\n",
      "Epoch 23/25\n",
      "92/92 [==============================] - 3s 31ms/step - loss: 0.0012 - accuracy: 0.9983 - val_loss: 0.0340 - val_accuracy: 0.9714\n",
      "Epoch 24/25\n",
      "92/92 [==============================] - 3s 31ms/step - loss: 0.0010 - accuracy: 0.9990 - val_loss: 0.0353 - val_accuracy: 0.9714\n",
      "Epoch 25/25\n",
      "92/92 [==============================] - 3s 31ms/step - loss: 9.4065e-04 - accuracy: 0.9990 - val_loss: 0.0342 - val_accuracy: 0.9714\n"
     ]
    },
    {
     "data": {
      "text/plain": [
       "<keras.callbacks.History at 0x1dcf2adba90>"
      ]
     },
     "execution_count": 10,
     "metadata": {},
     "output_type": "execute_result"
    }
   ],
   "source": [
    "# Train the Model\n",
    "\n",
    "mask_classifier.fit(X,y, epochs=25, batch_size=32, validation_split=0.2, shuffle=True, callbacks=[tensorboard_callback])"
   ]
  },
  {
   "cell_type": "code",
   "execution_count": 11,
   "metadata": {},
   "outputs": [],
   "source": [
    "# And finally save the Model:\n",
    "\n",
    "mask_classifier.save(\"./model/mobilenet.h5\")"
   ]
  }
 ],
 "metadata": {
  "kernelspec": {
   "display_name": "usl",
   "language": "python",
   "name": "python3"
  },
  "language_info": {
   "codemirror_mode": {
    "name": "ipython",
    "version": 3
   },
   "file_extension": ".py",
   "mimetype": "text/x-python",
   "name": "python",
   "nbconvert_exporter": "python",
   "pygments_lexer": "ipython3",
   "version": "3.10.8"
  },
  "orig_nbformat": 4
 },
 "nbformat": 4,
 "nbformat_minor": 2
}
